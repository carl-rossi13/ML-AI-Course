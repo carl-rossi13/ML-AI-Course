{
 "cells": [
  {
   "cell_type": "markdown",
   "metadata": {
    "id": "CcUT6Fon_qRE"
   },
   "source": [
    "### Required Assignment 5.1: Will the Customer Accept the Coupon?\n",
    "\n",
    "**Context**\n",
    "\n",
    "Imagine driving through town and a coupon is delivered to your cell phone for a restaurant near where you are driving. Would you accept that coupon and take a short detour to the restaurant? Would you accept the coupon but use it on a subsequent trip? Would you ignore the coupon entirely? What if the coupon was for a bar instead of a restaurant? What about a coffee house? Would you accept a bar coupon with a minor passenger in the car? What about if it was just you and your partner in the car? Would weather impact the rate of acceptance? What about the time of day?\n",
    "\n",
    "Obviously, proximity to the business is a factor on whether the coupon is delivered to the driver or not, but what are the factors that determine whether a driver accepts the coupon once it is delivered to them? How would you determine whether a driver is likely to accept a coupon?\n",
    "\n",
    "**Overview**\n",
    "\n",
    "The goal of this project is to use what you know about visualizations and probability distributions to distinguish between customers who accepted a driving coupon versus those that did not.\n",
    "\n",
    "**Data**\n",
    "\n",
    "This data comes to us from the UCI Machine Learning repository and was collected via a survey on Amazon Mechanical Turk. The survey describes different driving scenarios including the destination, current time, weather, passenger, etc., and then ask the person whether he will accept the coupon if he is the driver. Answers that the user will drive there ‘right away’ or ‘later before the coupon expires’ are labeled as ‘Y = 1’ and answers ‘no, I do not want the coupon’ are labeled as ‘Y = 0’.  There are five different types of coupons -- less expensive restaurants (under \\$20), coffee houses, carry out & take away, bar, and more expensive restaurants (\\$20 - $50)."
   ]
  },
  {
   "cell_type": "markdown",
   "metadata": {
    "id": "1wORvMBJ_qRF"
   },
   "source": [
    "**Deliverables**\n",
    "\n",
    "Your final product should be a brief report that highlights the differences between customers who did and did not accept the coupons.  To explore the data you will utilize your knowledge of plotting, statistical summaries, and visualization using Python. You will publish your findings in a public facing github repository as your first portfolio piece.\n",
    "\n",
    "\n",
    "\n"
   ]
  },
  {
   "cell_type": "markdown",
   "metadata": {
    "id": "pG6_Ym6q_qRG"
   },
   "source": [
    "### Data Description\n",
    "Keep in mind that these values mentioned below are average values.\n",
    "\n",
    "The attributes of this data set include:\n",
    "1. User attributes\n",
    "    -  Gender: male, female\n",
    "    -  Age: below 21, 21 to 25, 26 to 30, etc.\n",
    "    -  Marital Status: single, married partner, unmarried partner, or widowed\n",
    "    -  Number of children: 0, 1, or more than 1\n",
    "    -  Education: high school, bachelors degree, associates degree, or graduate degree\n",
    "    -  Occupation: architecture & engineering, business & financial, etc.\n",
    "    -  Annual income: less than \\\\$12500, \\\\$12500 - \\\\$24999, \\\\$25000 - \\\\$37499, etc.\n",
    "    -  Number of times that he/she goes to a bar: 0, less than 1, 1 to 3, 4 to 8 or greater than 8\n",
    "    -  Number of times that he/she buys takeaway food: 0, less than 1, 1 to 3, 4 to 8 or greater\n",
    "    than 8\n",
    "    -  Number of times that he/she goes to a coffee house: 0, less than 1, 1 to 3, 4 to 8 or\n",
    "    greater than 8\n",
    "    -  Number of times that he/she eats at a restaurant with average expense less than \\\\$20 per\n",
    "    person: 0, less than 1, 1 to 3, 4 to 8 or greater than 8\n",
    "    -  Number of times that he/she goes to a bar: 0, less than 1, 1 to 3, 4 to 8 or greater than 8\n",
    "    \n",
    "\n",
    "2. Contextual attributes\n",
    "    - Driving destination: home, work, or no urgent destination\n",
    "    - Location of user, coupon and destination: we provide a map to show the geographical\n",
    "    location of the user, destination, and the venue, and we mark the distance between each\n",
    "    two places with time of driving. The user can see whether the venue is in the same\n",
    "    direction as the destination.\n",
    "    - Weather: sunny, rainy, or snowy\n",
    "    - Temperature: 30F, 55F, or 80F\n",
    "    - Time: 10AM, 2PM, or 6PM\n",
    "    - Passenger: alone, partner, kid(s), or friend(s)\n",
    "\n",
    "\n",
    "3. Coupon attributes\n",
    "    - time before it expires: 2 hours or one day"
   ]
  },
  {
   "cell_type": "code",
   "execution_count": 3,
   "metadata": {
    "id": "dzNoP3o__qRG"
   },
   "outputs": [],
   "source": [
    "import matplotlib.pyplot as plt\n",
    "import seaborn as sns\n",
    "import pandas as pd\n",
    "import numpy as np"
   ]
  },
  {
   "cell_type": "markdown",
   "metadata": {
    "id": "Ct8pI1uE_qRG"
   },
   "source": [
    "### Problems\n",
    "\n",
    "Use the prompts below to get started with your data analysis.  \n",
    "\n",
    "1. Read in the `coupons.csv` file.\n",
    "\n",
    "\n"
   ]
  },
  {
   "cell_type": "code",
   "execution_count": 6,
   "metadata": {
    "id": "X0vbffYg_qRH"
   },
   "outputs": [],
   "source": [
    "data = pd.read_csv('coupons.csv')"
   ]
  },
  {
   "cell_type": "code",
   "execution_count": 8,
   "metadata": {
    "id": "TXofQ_DF_qRH",
    "outputId": "2fc96a2c-1112-4b54-f24f-dbb9bc88abfb"
   },
   "outputs": [
    {
     "data": {
      "text/html": [
       "<div>\n",
       "<style scoped>\n",
       "    .dataframe tbody tr th:only-of-type {\n",
       "        vertical-align: middle;\n",
       "    }\n",
       "\n",
       "    .dataframe tbody tr th {\n",
       "        vertical-align: top;\n",
       "    }\n",
       "\n",
       "    .dataframe thead th {\n",
       "        text-align: right;\n",
       "    }\n",
       "</style>\n",
       "<table border=\"1\" class=\"dataframe\">\n",
       "  <thead>\n",
       "    <tr style=\"text-align: right;\">\n",
       "      <th></th>\n",
       "      <th>destination</th>\n",
       "      <th>passanger</th>\n",
       "      <th>weather</th>\n",
       "      <th>temperature</th>\n",
       "      <th>time</th>\n",
       "      <th>coupon</th>\n",
       "      <th>expiration</th>\n",
       "      <th>gender</th>\n",
       "      <th>age</th>\n",
       "      <th>maritalStatus</th>\n",
       "      <th>...</th>\n",
       "      <th>CoffeeHouse</th>\n",
       "      <th>CarryAway</th>\n",
       "      <th>RestaurantLessThan20</th>\n",
       "      <th>Restaurant20To50</th>\n",
       "      <th>toCoupon_GEQ5min</th>\n",
       "      <th>toCoupon_GEQ15min</th>\n",
       "      <th>toCoupon_GEQ25min</th>\n",
       "      <th>direction_same</th>\n",
       "      <th>direction_opp</th>\n",
       "      <th>Y</th>\n",
       "    </tr>\n",
       "  </thead>\n",
       "  <tbody>\n",
       "    <tr>\n",
       "      <th>0</th>\n",
       "      <td>No Urgent Place</td>\n",
       "      <td>Alone</td>\n",
       "      <td>Sunny</td>\n",
       "      <td>55</td>\n",
       "      <td>2PM</td>\n",
       "      <td>Restaurant(&lt;20)</td>\n",
       "      <td>1d</td>\n",
       "      <td>Female</td>\n",
       "      <td>21</td>\n",
       "      <td>Unmarried partner</td>\n",
       "      <td>...</td>\n",
       "      <td>never</td>\n",
       "      <td>NaN</td>\n",
       "      <td>4~8</td>\n",
       "      <td>1~3</td>\n",
       "      <td>1</td>\n",
       "      <td>0</td>\n",
       "      <td>0</td>\n",
       "      <td>0</td>\n",
       "      <td>1</td>\n",
       "      <td>1</td>\n",
       "    </tr>\n",
       "    <tr>\n",
       "      <th>1</th>\n",
       "      <td>No Urgent Place</td>\n",
       "      <td>Friend(s)</td>\n",
       "      <td>Sunny</td>\n",
       "      <td>80</td>\n",
       "      <td>10AM</td>\n",
       "      <td>Coffee House</td>\n",
       "      <td>2h</td>\n",
       "      <td>Female</td>\n",
       "      <td>21</td>\n",
       "      <td>Unmarried partner</td>\n",
       "      <td>...</td>\n",
       "      <td>never</td>\n",
       "      <td>NaN</td>\n",
       "      <td>4~8</td>\n",
       "      <td>1~3</td>\n",
       "      <td>1</td>\n",
       "      <td>0</td>\n",
       "      <td>0</td>\n",
       "      <td>0</td>\n",
       "      <td>1</td>\n",
       "      <td>0</td>\n",
       "    </tr>\n",
       "    <tr>\n",
       "      <th>2</th>\n",
       "      <td>No Urgent Place</td>\n",
       "      <td>Friend(s)</td>\n",
       "      <td>Sunny</td>\n",
       "      <td>80</td>\n",
       "      <td>10AM</td>\n",
       "      <td>Carry out &amp; Take away</td>\n",
       "      <td>2h</td>\n",
       "      <td>Female</td>\n",
       "      <td>21</td>\n",
       "      <td>Unmarried partner</td>\n",
       "      <td>...</td>\n",
       "      <td>never</td>\n",
       "      <td>NaN</td>\n",
       "      <td>4~8</td>\n",
       "      <td>1~3</td>\n",
       "      <td>1</td>\n",
       "      <td>1</td>\n",
       "      <td>0</td>\n",
       "      <td>0</td>\n",
       "      <td>1</td>\n",
       "      <td>1</td>\n",
       "    </tr>\n",
       "    <tr>\n",
       "      <th>3</th>\n",
       "      <td>No Urgent Place</td>\n",
       "      <td>Friend(s)</td>\n",
       "      <td>Sunny</td>\n",
       "      <td>80</td>\n",
       "      <td>2PM</td>\n",
       "      <td>Coffee House</td>\n",
       "      <td>2h</td>\n",
       "      <td>Female</td>\n",
       "      <td>21</td>\n",
       "      <td>Unmarried partner</td>\n",
       "      <td>...</td>\n",
       "      <td>never</td>\n",
       "      <td>NaN</td>\n",
       "      <td>4~8</td>\n",
       "      <td>1~3</td>\n",
       "      <td>1</td>\n",
       "      <td>1</td>\n",
       "      <td>0</td>\n",
       "      <td>0</td>\n",
       "      <td>1</td>\n",
       "      <td>0</td>\n",
       "    </tr>\n",
       "    <tr>\n",
       "      <th>4</th>\n",
       "      <td>No Urgent Place</td>\n",
       "      <td>Friend(s)</td>\n",
       "      <td>Sunny</td>\n",
       "      <td>80</td>\n",
       "      <td>2PM</td>\n",
       "      <td>Coffee House</td>\n",
       "      <td>1d</td>\n",
       "      <td>Female</td>\n",
       "      <td>21</td>\n",
       "      <td>Unmarried partner</td>\n",
       "      <td>...</td>\n",
       "      <td>never</td>\n",
       "      <td>NaN</td>\n",
       "      <td>4~8</td>\n",
       "      <td>1~3</td>\n",
       "      <td>1</td>\n",
       "      <td>1</td>\n",
       "      <td>0</td>\n",
       "      <td>0</td>\n",
       "      <td>1</td>\n",
       "      <td>0</td>\n",
       "    </tr>\n",
       "    <tr>\n",
       "      <th>...</th>\n",
       "      <td>...</td>\n",
       "      <td>...</td>\n",
       "      <td>...</td>\n",
       "      <td>...</td>\n",
       "      <td>...</td>\n",
       "      <td>...</td>\n",
       "      <td>...</td>\n",
       "      <td>...</td>\n",
       "      <td>...</td>\n",
       "      <td>...</td>\n",
       "      <td>...</td>\n",
       "      <td>...</td>\n",
       "      <td>...</td>\n",
       "      <td>...</td>\n",
       "      <td>...</td>\n",
       "      <td>...</td>\n",
       "      <td>...</td>\n",
       "      <td>...</td>\n",
       "      <td>...</td>\n",
       "      <td>...</td>\n",
       "      <td>...</td>\n",
       "    </tr>\n",
       "    <tr>\n",
       "      <th>12679</th>\n",
       "      <td>Home</td>\n",
       "      <td>Partner</td>\n",
       "      <td>Rainy</td>\n",
       "      <td>55</td>\n",
       "      <td>6PM</td>\n",
       "      <td>Carry out &amp; Take away</td>\n",
       "      <td>1d</td>\n",
       "      <td>Male</td>\n",
       "      <td>26</td>\n",
       "      <td>Single</td>\n",
       "      <td>...</td>\n",
       "      <td>never</td>\n",
       "      <td>1~3</td>\n",
       "      <td>4~8</td>\n",
       "      <td>1~3</td>\n",
       "      <td>1</td>\n",
       "      <td>0</td>\n",
       "      <td>0</td>\n",
       "      <td>1</td>\n",
       "      <td>0</td>\n",
       "      <td>1</td>\n",
       "    </tr>\n",
       "    <tr>\n",
       "      <th>12680</th>\n",
       "      <td>Work</td>\n",
       "      <td>Alone</td>\n",
       "      <td>Rainy</td>\n",
       "      <td>55</td>\n",
       "      <td>7AM</td>\n",
       "      <td>Carry out &amp; Take away</td>\n",
       "      <td>1d</td>\n",
       "      <td>Male</td>\n",
       "      <td>26</td>\n",
       "      <td>Single</td>\n",
       "      <td>...</td>\n",
       "      <td>never</td>\n",
       "      <td>1~3</td>\n",
       "      <td>4~8</td>\n",
       "      <td>1~3</td>\n",
       "      <td>1</td>\n",
       "      <td>0</td>\n",
       "      <td>0</td>\n",
       "      <td>0</td>\n",
       "      <td>1</td>\n",
       "      <td>1</td>\n",
       "    </tr>\n",
       "    <tr>\n",
       "      <th>12681</th>\n",
       "      <td>Work</td>\n",
       "      <td>Alone</td>\n",
       "      <td>Snowy</td>\n",
       "      <td>30</td>\n",
       "      <td>7AM</td>\n",
       "      <td>Coffee House</td>\n",
       "      <td>1d</td>\n",
       "      <td>Male</td>\n",
       "      <td>26</td>\n",
       "      <td>Single</td>\n",
       "      <td>...</td>\n",
       "      <td>never</td>\n",
       "      <td>1~3</td>\n",
       "      <td>4~8</td>\n",
       "      <td>1~3</td>\n",
       "      <td>1</td>\n",
       "      <td>0</td>\n",
       "      <td>0</td>\n",
       "      <td>1</td>\n",
       "      <td>0</td>\n",
       "      <td>0</td>\n",
       "    </tr>\n",
       "    <tr>\n",
       "      <th>12682</th>\n",
       "      <td>Work</td>\n",
       "      <td>Alone</td>\n",
       "      <td>Snowy</td>\n",
       "      <td>30</td>\n",
       "      <td>7AM</td>\n",
       "      <td>Bar</td>\n",
       "      <td>1d</td>\n",
       "      <td>Male</td>\n",
       "      <td>26</td>\n",
       "      <td>Single</td>\n",
       "      <td>...</td>\n",
       "      <td>never</td>\n",
       "      <td>1~3</td>\n",
       "      <td>4~8</td>\n",
       "      <td>1~3</td>\n",
       "      <td>1</td>\n",
       "      <td>1</td>\n",
       "      <td>1</td>\n",
       "      <td>0</td>\n",
       "      <td>1</td>\n",
       "      <td>0</td>\n",
       "    </tr>\n",
       "    <tr>\n",
       "      <th>12683</th>\n",
       "      <td>Work</td>\n",
       "      <td>Alone</td>\n",
       "      <td>Sunny</td>\n",
       "      <td>80</td>\n",
       "      <td>7AM</td>\n",
       "      <td>Restaurant(20-50)</td>\n",
       "      <td>2h</td>\n",
       "      <td>Male</td>\n",
       "      <td>26</td>\n",
       "      <td>Single</td>\n",
       "      <td>...</td>\n",
       "      <td>never</td>\n",
       "      <td>1~3</td>\n",
       "      <td>4~8</td>\n",
       "      <td>1~3</td>\n",
       "      <td>1</td>\n",
       "      <td>0</td>\n",
       "      <td>0</td>\n",
       "      <td>1</td>\n",
       "      <td>0</td>\n",
       "      <td>0</td>\n",
       "    </tr>\n",
       "  </tbody>\n",
       "</table>\n",
       "<p>12684 rows × 26 columns</p>\n",
       "</div>"
      ],
      "text/plain": [
       "           destination  passanger weather  temperature  time  \\\n",
       "0      No Urgent Place      Alone   Sunny           55   2PM   \n",
       "1      No Urgent Place  Friend(s)   Sunny           80  10AM   \n",
       "2      No Urgent Place  Friend(s)   Sunny           80  10AM   \n",
       "3      No Urgent Place  Friend(s)   Sunny           80   2PM   \n",
       "4      No Urgent Place  Friend(s)   Sunny           80   2PM   \n",
       "...                ...        ...     ...          ...   ...   \n",
       "12679             Home    Partner   Rainy           55   6PM   \n",
       "12680             Work      Alone   Rainy           55   7AM   \n",
       "12681             Work      Alone   Snowy           30   7AM   \n",
       "12682             Work      Alone   Snowy           30   7AM   \n",
       "12683             Work      Alone   Sunny           80   7AM   \n",
       "\n",
       "                      coupon expiration  gender age      maritalStatus  ...  \\\n",
       "0            Restaurant(<20)         1d  Female  21  Unmarried partner  ...   \n",
       "1               Coffee House         2h  Female  21  Unmarried partner  ...   \n",
       "2      Carry out & Take away         2h  Female  21  Unmarried partner  ...   \n",
       "3               Coffee House         2h  Female  21  Unmarried partner  ...   \n",
       "4               Coffee House         1d  Female  21  Unmarried partner  ...   \n",
       "...                      ...        ...     ...  ..                ...  ...   \n",
       "12679  Carry out & Take away         1d    Male  26             Single  ...   \n",
       "12680  Carry out & Take away         1d    Male  26             Single  ...   \n",
       "12681           Coffee House         1d    Male  26             Single  ...   \n",
       "12682                    Bar         1d    Male  26             Single  ...   \n",
       "12683      Restaurant(20-50)         2h    Male  26             Single  ...   \n",
       "\n",
       "       CoffeeHouse CarryAway RestaurantLessThan20 Restaurant20To50  \\\n",
       "0            never       NaN                  4~8              1~3   \n",
       "1            never       NaN                  4~8              1~3   \n",
       "2            never       NaN                  4~8              1~3   \n",
       "3            never       NaN                  4~8              1~3   \n",
       "4            never       NaN                  4~8              1~3   \n",
       "...            ...       ...                  ...              ...   \n",
       "12679        never       1~3                  4~8              1~3   \n",
       "12680        never       1~3                  4~8              1~3   \n",
       "12681        never       1~3                  4~8              1~3   \n",
       "12682        never       1~3                  4~8              1~3   \n",
       "12683        never       1~3                  4~8              1~3   \n",
       "\n",
       "      toCoupon_GEQ5min toCoupon_GEQ15min toCoupon_GEQ25min direction_same  \\\n",
       "0                    1                 0                 0              0   \n",
       "1                    1                 0                 0              0   \n",
       "2                    1                 1                 0              0   \n",
       "3                    1                 1                 0              0   \n",
       "4                    1                 1                 0              0   \n",
       "...                ...               ...               ...            ...   \n",
       "12679                1                 0                 0              1   \n",
       "12680                1                 0                 0              0   \n",
       "12681                1                 0                 0              1   \n",
       "12682                1                 1                 1              0   \n",
       "12683                1                 0                 0              1   \n",
       "\n",
       "      direction_opp  Y  \n",
       "0                 1  1  \n",
       "1                 1  0  \n",
       "2                 1  1  \n",
       "3                 1  0  \n",
       "4                 1  0  \n",
       "...             ... ..  \n",
       "12679             0  1  \n",
       "12680             1  1  \n",
       "12681             0  0  \n",
       "12682             1  0  \n",
       "12683             0  0  \n",
       "\n",
       "[12684 rows x 26 columns]"
      ]
     },
     "execution_count": 8,
     "metadata": {},
     "output_type": "execute_result"
    }
   ],
   "source": [
    "data"
   ]
  },
  {
   "cell_type": "markdown",
   "metadata": {
    "id": "GcDs78ZH_qRH"
   },
   "source": [
    "2. Investigate the dataset for missing or problematic data."
   ]
  },
  {
   "cell_type": "code",
   "execution_count": 11,
   "metadata": {
    "id": "6CwL6oWj_qRH"
   },
   "outputs": [
    {
     "data": {
      "text/plain": [
       "destination                 0\n",
       "passanger                   0\n",
       "weather                     0\n",
       "temperature                 0\n",
       "time                        0\n",
       "coupon                      0\n",
       "expiration                  0\n",
       "gender                      0\n",
       "age                         0\n",
       "maritalStatus               0\n",
       "has_children                0\n",
       "education                   0\n",
       "occupation                  0\n",
       "income                      0\n",
       "car                     12576\n",
       "Bar                       107\n",
       "CoffeeHouse               217\n",
       "CarryAway                 151\n",
       "RestaurantLessThan20      130\n",
       "Restaurant20To50          189\n",
       "toCoupon_GEQ5min            0\n",
       "toCoupon_GEQ15min           0\n",
       "toCoupon_GEQ25min           0\n",
       "direction_same              0\n",
       "direction_opp               0\n",
       "Y                           0\n",
       "dtype: int64"
      ]
     },
     "execution_count": 11,
     "metadata": {},
     "output_type": "execute_result"
    }
   ],
   "source": [
    "#data.info()\n",
    "#data.describe()\n",
    "data.isnull().sum()\n"
   ]
  },
  {
   "cell_type": "code",
   "execution_count": 13,
   "metadata": {},
   "outputs": [
    {
     "data": {
      "text/plain": [
       "array([nan, 'Scooter and motorcycle', 'crossover', 'Mazda5',\n",
       "       'do not drive', 'Car that is too old to install Onstar :D'],\n",
       "      dtype=object)"
      ]
     },
     "execution_count": 13,
     "metadata": {},
     "output_type": "execute_result"
    }
   ],
   "source": [
    "data['car'].unique()"
   ]
  },
  {
   "cell_type": "code",
   "execution_count": 15,
   "metadata": {},
   "outputs": [],
   "source": [
    "data['car'] = data['car'].fillna('n/a')"
   ]
  },
  {
   "cell_type": "code",
   "execution_count": 17,
   "metadata": {},
   "outputs": [
    {
     "data": {
      "text/plain": [
       "destination               0\n",
       "passanger                 0\n",
       "weather                   0\n",
       "temperature               0\n",
       "time                      0\n",
       "coupon                    0\n",
       "expiration                0\n",
       "gender                    0\n",
       "age                       0\n",
       "maritalStatus             0\n",
       "has_children              0\n",
       "education                 0\n",
       "occupation                0\n",
       "income                    0\n",
       "car                       0\n",
       "Bar                     107\n",
       "CoffeeHouse             217\n",
       "CarryAway               151\n",
       "RestaurantLessThan20    130\n",
       "Restaurant20To50        189\n",
       "toCoupon_GEQ5min          0\n",
       "toCoupon_GEQ15min         0\n",
       "toCoupon_GEQ25min         0\n",
       "direction_same            0\n",
       "direction_opp             0\n",
       "Y                         0\n",
       "dtype: int64"
      ]
     },
     "execution_count": 17,
     "metadata": {},
     "output_type": "execute_result"
    }
   ],
   "source": [
    "data.isnull().sum()"
   ]
  },
  {
   "cell_type": "markdown",
   "metadata": {
    "id": "bSdVSpYB_qRH"
   },
   "source": [
    "3. Decide what to do about your missing data -- drop, replace, other..."
   ]
  },
  {
   "cell_type": "markdown",
   "metadata": {
    "id": "YE6oJbXd_qRI"
   },
   "source": [
    "4. What proportion of the total observations chose to accept the coupon?"
   ]
  },
  {
   "cell_type": "code",
   "execution_count": 21,
   "metadata": {
    "id": "tyvoAC5F_qRI"
   },
   "outputs": [
    {
     "data": {
      "text/html": [
       "<div>\n",
       "<style scoped>\n",
       "    .dataframe tbody tr th:only-of-type {\n",
       "        vertical-align: middle;\n",
       "    }\n",
       "\n",
       "    .dataframe tbody tr th {\n",
       "        vertical-align: top;\n",
       "    }\n",
       "\n",
       "    .dataframe thead th {\n",
       "        text-align: right;\n",
       "    }\n",
       "</style>\n",
       "<table border=\"1\" class=\"dataframe\">\n",
       "  <thead>\n",
       "    <tr style=\"text-align: right;\">\n",
       "      <th></th>\n",
       "      <th>destination</th>\n",
       "      <th>passanger</th>\n",
       "      <th>weather</th>\n",
       "      <th>temperature</th>\n",
       "      <th>time</th>\n",
       "      <th>coupon</th>\n",
       "      <th>expiration</th>\n",
       "      <th>gender</th>\n",
       "      <th>age</th>\n",
       "      <th>maritalStatus</th>\n",
       "      <th>...</th>\n",
       "      <th>CoffeeHouse</th>\n",
       "      <th>CarryAway</th>\n",
       "      <th>RestaurantLessThan20</th>\n",
       "      <th>Restaurant20To50</th>\n",
       "      <th>toCoupon_GEQ5min</th>\n",
       "      <th>toCoupon_GEQ15min</th>\n",
       "      <th>toCoupon_GEQ25min</th>\n",
       "      <th>direction_same</th>\n",
       "      <th>direction_opp</th>\n",
       "      <th>Y</th>\n",
       "    </tr>\n",
       "  </thead>\n",
       "  <tbody>\n",
       "    <tr>\n",
       "      <th>22</th>\n",
       "      <td>No Urgent Place</td>\n",
       "      <td>Alone</td>\n",
       "      <td>Sunny</td>\n",
       "      <td>55</td>\n",
       "      <td>2PM</td>\n",
       "      <td>Restaurant(&lt;20)</td>\n",
       "      <td>1d</td>\n",
       "      <td>Male</td>\n",
       "      <td>21</td>\n",
       "      <td>Single</td>\n",
       "      <td>...</td>\n",
       "      <td>less1</td>\n",
       "      <td>4~8</td>\n",
       "      <td>4~8</td>\n",
       "      <td>less1</td>\n",
       "      <td>1</td>\n",
       "      <td>0</td>\n",
       "      <td>0</td>\n",
       "      <td>0</td>\n",
       "      <td>1</td>\n",
       "      <td>1</td>\n",
       "    </tr>\n",
       "    <tr>\n",
       "      <th>23</th>\n",
       "      <td>No Urgent Place</td>\n",
       "      <td>Friend(s)</td>\n",
       "      <td>Sunny</td>\n",
       "      <td>80</td>\n",
       "      <td>10AM</td>\n",
       "      <td>Coffee House</td>\n",
       "      <td>2h</td>\n",
       "      <td>Male</td>\n",
       "      <td>21</td>\n",
       "      <td>Single</td>\n",
       "      <td>...</td>\n",
       "      <td>less1</td>\n",
       "      <td>4~8</td>\n",
       "      <td>4~8</td>\n",
       "      <td>less1</td>\n",
       "      <td>1</td>\n",
       "      <td>0</td>\n",
       "      <td>0</td>\n",
       "      <td>0</td>\n",
       "      <td>1</td>\n",
       "      <td>0</td>\n",
       "    </tr>\n",
       "    <tr>\n",
       "      <th>24</th>\n",
       "      <td>No Urgent Place</td>\n",
       "      <td>Friend(s)</td>\n",
       "      <td>Sunny</td>\n",
       "      <td>80</td>\n",
       "      <td>10AM</td>\n",
       "      <td>Bar</td>\n",
       "      <td>1d</td>\n",
       "      <td>Male</td>\n",
       "      <td>21</td>\n",
       "      <td>Single</td>\n",
       "      <td>...</td>\n",
       "      <td>less1</td>\n",
       "      <td>4~8</td>\n",
       "      <td>4~8</td>\n",
       "      <td>less1</td>\n",
       "      <td>1</td>\n",
       "      <td>0</td>\n",
       "      <td>0</td>\n",
       "      <td>0</td>\n",
       "      <td>1</td>\n",
       "      <td>1</td>\n",
       "    </tr>\n",
       "    <tr>\n",
       "      <th>25</th>\n",
       "      <td>No Urgent Place</td>\n",
       "      <td>Friend(s)</td>\n",
       "      <td>Sunny</td>\n",
       "      <td>80</td>\n",
       "      <td>10AM</td>\n",
       "      <td>Carry out &amp; Take away</td>\n",
       "      <td>2h</td>\n",
       "      <td>Male</td>\n",
       "      <td>21</td>\n",
       "      <td>Single</td>\n",
       "      <td>...</td>\n",
       "      <td>less1</td>\n",
       "      <td>4~8</td>\n",
       "      <td>4~8</td>\n",
       "      <td>less1</td>\n",
       "      <td>1</td>\n",
       "      <td>1</td>\n",
       "      <td>0</td>\n",
       "      <td>0</td>\n",
       "      <td>1</td>\n",
       "      <td>0</td>\n",
       "    </tr>\n",
       "    <tr>\n",
       "      <th>26</th>\n",
       "      <td>No Urgent Place</td>\n",
       "      <td>Friend(s)</td>\n",
       "      <td>Sunny</td>\n",
       "      <td>80</td>\n",
       "      <td>2PM</td>\n",
       "      <td>Coffee House</td>\n",
       "      <td>1d</td>\n",
       "      <td>Male</td>\n",
       "      <td>21</td>\n",
       "      <td>Single</td>\n",
       "      <td>...</td>\n",
       "      <td>less1</td>\n",
       "      <td>4~8</td>\n",
       "      <td>4~8</td>\n",
       "      <td>less1</td>\n",
       "      <td>1</td>\n",
       "      <td>0</td>\n",
       "      <td>0</td>\n",
       "      <td>0</td>\n",
       "      <td>1</td>\n",
       "      <td>0</td>\n",
       "    </tr>\n",
       "    <tr>\n",
       "      <th>...</th>\n",
       "      <td>...</td>\n",
       "      <td>...</td>\n",
       "      <td>...</td>\n",
       "      <td>...</td>\n",
       "      <td>...</td>\n",
       "      <td>...</td>\n",
       "      <td>...</td>\n",
       "      <td>...</td>\n",
       "      <td>...</td>\n",
       "      <td>...</td>\n",
       "      <td>...</td>\n",
       "      <td>...</td>\n",
       "      <td>...</td>\n",
       "      <td>...</td>\n",
       "      <td>...</td>\n",
       "      <td>...</td>\n",
       "      <td>...</td>\n",
       "      <td>...</td>\n",
       "      <td>...</td>\n",
       "      <td>...</td>\n",
       "      <td>...</td>\n",
       "    </tr>\n",
       "    <tr>\n",
       "      <th>12679</th>\n",
       "      <td>Home</td>\n",
       "      <td>Partner</td>\n",
       "      <td>Rainy</td>\n",
       "      <td>55</td>\n",
       "      <td>6PM</td>\n",
       "      <td>Carry out &amp; Take away</td>\n",
       "      <td>1d</td>\n",
       "      <td>Male</td>\n",
       "      <td>26</td>\n",
       "      <td>Single</td>\n",
       "      <td>...</td>\n",
       "      <td>never</td>\n",
       "      <td>1~3</td>\n",
       "      <td>4~8</td>\n",
       "      <td>1~3</td>\n",
       "      <td>1</td>\n",
       "      <td>0</td>\n",
       "      <td>0</td>\n",
       "      <td>1</td>\n",
       "      <td>0</td>\n",
       "      <td>1</td>\n",
       "    </tr>\n",
       "    <tr>\n",
       "      <th>12680</th>\n",
       "      <td>Work</td>\n",
       "      <td>Alone</td>\n",
       "      <td>Rainy</td>\n",
       "      <td>55</td>\n",
       "      <td>7AM</td>\n",
       "      <td>Carry out &amp; Take away</td>\n",
       "      <td>1d</td>\n",
       "      <td>Male</td>\n",
       "      <td>26</td>\n",
       "      <td>Single</td>\n",
       "      <td>...</td>\n",
       "      <td>never</td>\n",
       "      <td>1~3</td>\n",
       "      <td>4~8</td>\n",
       "      <td>1~3</td>\n",
       "      <td>1</td>\n",
       "      <td>0</td>\n",
       "      <td>0</td>\n",
       "      <td>0</td>\n",
       "      <td>1</td>\n",
       "      <td>1</td>\n",
       "    </tr>\n",
       "    <tr>\n",
       "      <th>12681</th>\n",
       "      <td>Work</td>\n",
       "      <td>Alone</td>\n",
       "      <td>Snowy</td>\n",
       "      <td>30</td>\n",
       "      <td>7AM</td>\n",
       "      <td>Coffee House</td>\n",
       "      <td>1d</td>\n",
       "      <td>Male</td>\n",
       "      <td>26</td>\n",
       "      <td>Single</td>\n",
       "      <td>...</td>\n",
       "      <td>never</td>\n",
       "      <td>1~3</td>\n",
       "      <td>4~8</td>\n",
       "      <td>1~3</td>\n",
       "      <td>1</td>\n",
       "      <td>0</td>\n",
       "      <td>0</td>\n",
       "      <td>1</td>\n",
       "      <td>0</td>\n",
       "      <td>0</td>\n",
       "    </tr>\n",
       "    <tr>\n",
       "      <th>12682</th>\n",
       "      <td>Work</td>\n",
       "      <td>Alone</td>\n",
       "      <td>Snowy</td>\n",
       "      <td>30</td>\n",
       "      <td>7AM</td>\n",
       "      <td>Bar</td>\n",
       "      <td>1d</td>\n",
       "      <td>Male</td>\n",
       "      <td>26</td>\n",
       "      <td>Single</td>\n",
       "      <td>...</td>\n",
       "      <td>never</td>\n",
       "      <td>1~3</td>\n",
       "      <td>4~8</td>\n",
       "      <td>1~3</td>\n",
       "      <td>1</td>\n",
       "      <td>1</td>\n",
       "      <td>1</td>\n",
       "      <td>0</td>\n",
       "      <td>1</td>\n",
       "      <td>0</td>\n",
       "    </tr>\n",
       "    <tr>\n",
       "      <th>12683</th>\n",
       "      <td>Work</td>\n",
       "      <td>Alone</td>\n",
       "      <td>Sunny</td>\n",
       "      <td>80</td>\n",
       "      <td>7AM</td>\n",
       "      <td>Restaurant(20-50)</td>\n",
       "      <td>2h</td>\n",
       "      <td>Male</td>\n",
       "      <td>26</td>\n",
       "      <td>Single</td>\n",
       "      <td>...</td>\n",
       "      <td>never</td>\n",
       "      <td>1~3</td>\n",
       "      <td>4~8</td>\n",
       "      <td>1~3</td>\n",
       "      <td>1</td>\n",
       "      <td>0</td>\n",
       "      <td>0</td>\n",
       "      <td>1</td>\n",
       "      <td>0</td>\n",
       "      <td>0</td>\n",
       "    </tr>\n",
       "  </tbody>\n",
       "</table>\n",
       "<p>12079 rows × 26 columns</p>\n",
       "</div>"
      ],
      "text/plain": [
       "           destination  passanger weather  temperature  time  \\\n",
       "22     No Urgent Place      Alone   Sunny           55   2PM   \n",
       "23     No Urgent Place  Friend(s)   Sunny           80  10AM   \n",
       "24     No Urgent Place  Friend(s)   Sunny           80  10AM   \n",
       "25     No Urgent Place  Friend(s)   Sunny           80  10AM   \n",
       "26     No Urgent Place  Friend(s)   Sunny           80   2PM   \n",
       "...                ...        ...     ...          ...   ...   \n",
       "12679             Home    Partner   Rainy           55   6PM   \n",
       "12680             Work      Alone   Rainy           55   7AM   \n",
       "12681             Work      Alone   Snowy           30   7AM   \n",
       "12682             Work      Alone   Snowy           30   7AM   \n",
       "12683             Work      Alone   Sunny           80   7AM   \n",
       "\n",
       "                      coupon expiration gender age maritalStatus  ...  \\\n",
       "22           Restaurant(<20)         1d   Male  21        Single  ...   \n",
       "23              Coffee House         2h   Male  21        Single  ...   \n",
       "24                       Bar         1d   Male  21        Single  ...   \n",
       "25     Carry out & Take away         2h   Male  21        Single  ...   \n",
       "26              Coffee House         1d   Male  21        Single  ...   \n",
       "...                      ...        ...    ...  ..           ...  ...   \n",
       "12679  Carry out & Take away         1d   Male  26        Single  ...   \n",
       "12680  Carry out & Take away         1d   Male  26        Single  ...   \n",
       "12681           Coffee House         1d   Male  26        Single  ...   \n",
       "12682                    Bar         1d   Male  26        Single  ...   \n",
       "12683      Restaurant(20-50)         2h   Male  26        Single  ...   \n",
       "\n",
       "       CoffeeHouse CarryAway RestaurantLessThan20 Restaurant20To50  \\\n",
       "22           less1       4~8                  4~8            less1   \n",
       "23           less1       4~8                  4~8            less1   \n",
       "24           less1       4~8                  4~8            less1   \n",
       "25           less1       4~8                  4~8            less1   \n",
       "26           less1       4~8                  4~8            less1   \n",
       "...            ...       ...                  ...              ...   \n",
       "12679        never       1~3                  4~8              1~3   \n",
       "12680        never       1~3                  4~8              1~3   \n",
       "12681        never       1~3                  4~8              1~3   \n",
       "12682        never       1~3                  4~8              1~3   \n",
       "12683        never       1~3                  4~8              1~3   \n",
       "\n",
       "      toCoupon_GEQ5min toCoupon_GEQ15min toCoupon_GEQ25min direction_same  \\\n",
       "22                   1                 0                 0              0   \n",
       "23                   1                 0                 0              0   \n",
       "24                   1                 0                 0              0   \n",
       "25                   1                 1                 0              0   \n",
       "26                   1                 0                 0              0   \n",
       "...                ...               ...               ...            ...   \n",
       "12679                1                 0                 0              1   \n",
       "12680                1                 0                 0              0   \n",
       "12681                1                 0                 0              1   \n",
       "12682                1                 1                 1              0   \n",
       "12683                1                 0                 0              1   \n",
       "\n",
       "      direction_opp  Y  \n",
       "22                1  1  \n",
       "23                1  0  \n",
       "24                1  1  \n",
       "25                1  0  \n",
       "26                1  0  \n",
       "...             ... ..  \n",
       "12679             0  1  \n",
       "12680             1  1  \n",
       "12681             0  0  \n",
       "12682             1  0  \n",
       "12683             0  0  \n",
       "\n",
       "[12079 rows x 26 columns]"
      ]
     },
     "execution_count": 21,
     "metadata": {},
     "output_type": "execute_result"
    }
   ],
   "source": [
    "data_cleaned  = data.dropna()\n",
    "data_cleaned"
   ]
  },
  {
   "cell_type": "code",
   "execution_count": 23,
   "metadata": {
    "id": "86GGqBTv_qRI"
   },
   "outputs": [
    {
     "name": "stdout",
     "output_type": "stream",
     "text": [
      "Proportion of Accepted Coupons: 56.93%\n"
     ]
    }
   ],
   "source": [
    "\n",
    "total_observations = len(data_cleaned)\n",
    "accepted = data_cleaned['Y'].sum()\n",
    "\n",
    "proportion = accepted / total_observations\n",
    "\n",
    "print(f\"Proportion of Accepted Coupons: {proportion:.2%}\")"
   ]
  },
  {
   "cell_type": "markdown",
   "metadata": {
    "id": "vflz0DoE_qRI"
   },
   "source": [
    "5. Use a bar plot to visualize the `coupon` column."
   ]
  },
  {
   "cell_type": "code",
   "execution_count": 26,
   "metadata": {
    "id": "dHFh3E45_qRI"
   },
   "outputs": [
    {
     "name": "stderr",
     "output_type": "stream",
     "text": [
      "C:\\Users\\carl1\\AppData\\Local\\Temp\\ipykernel_17456\\640784833.py:3: FutureWarning: \n",
      "\n",
      "Passing `palette` without assigning `hue` is deprecated and will be removed in v0.14.0. Assign the `x` variable to `hue` and set `legend=False` for the same effect.\n",
      "\n",
      "  sns.countplot(data=data_cleaned, x='coupon', palette='Set1')\n"
     ]
    },
    {
     "data": {
      "text/plain": [
       "([0, 1, 2, 3, 4],\n",
       " [Text(0, 0, 'Restaurant(<20)'),\n",
       "  Text(1, 0, 'Coffee House'),\n",
       "  Text(2, 0, 'Bar'),\n",
       "  Text(3, 0, 'Carry out & Take away'),\n",
       "  Text(4, 0, 'Restaurant(20-50)')])"
      ]
     },
     "execution_count": 26,
     "metadata": {},
     "output_type": "execute_result"
    },
    {
     "data": {
      "image/png": "[encoded data removed]",
      "text/plain": [
       "<Figure size 1000x600 with 1 Axes>"
      ]
     },
     "metadata": {},
     "output_type": "display_data"
    }
   ],
   "source": [
    "plt.figure(figsize=(10, 6))\n",
    "sns.set_style(\"whitegrid\")\n",
    "sns.countplot(data=data_cleaned, x='coupon', palette='Set1')\n",
    "plt.title('Distribution of Coupon Types', fontsize=16)\n",
    "plt.xlabel('Coupon Type', fontsize=12)\n",
    "plt.ylabel('Count', fontsize=12)\n",
    "plt.xticks(rotation=45)  # Rotate x-axis labels for better readability\n"
   ]
  },
  {
   "cell_type": "markdown",
   "metadata": {
    "id": "Qw4lCyx2_qRI"
   },
   "source": [
    "6. Use a histogram to visualize the temperature column."
   ]
  },
  {
   "cell_type": "code",
   "execution_count": 29,
   "metadata": {
    "id": "Yg9Anv71_qRI"
   },
   "outputs": [
    {
     "name": "stderr",
     "output_type": "stream",
     "text": [
      "C:\\Users\\carl1\\AppData\\Local\\Temp\\ipykernel_17456\\2644027978.py:3: FutureWarning: \n",
      "\n",
      "Passing `palette` without assigning `hue` is deprecated and will be removed in v0.14.0. Assign the `x` variable to `hue` and set `legend=False` for the same effect.\n",
      "\n",
      "  sns.barplot(x=temp_counts.index, y=temp_counts.values, palette=\"Set1\")\n"
     ]
    },
    {
     "data": {
      "text/plain": [
       "Text(0, 0.5, 'Frequency')"
      ]
     },
     "execution_count": 29,
     "metadata": {},
     "output_type": "execute_result"
    },
    {
     "data": {
      "image/png": "[encoded data removed]",
      "text/plain": [
       "<Figure size 800x600 with 1 Axes>"
      ]
     },
     "metadata": {},
     "output_type": "display_data"
    }
   ],
   "source": [
    "temp_counts = data_cleaned['temperature'].value_counts()\n",
    "plt.figure(figsize=(8, 6))\n",
    "sns.barplot(x=temp_counts.index, y=temp_counts.values, palette=\"Set1\")\n",
    "plt.title('Frequency of Temperature Values', fontsize=16)\n",
    "plt.xlabel('Temperature', fontsize=12)\n",
    "plt.ylabel('Frequency', fontsize=12)\n"
   ]
  },
  {
   "cell_type": "code",
   "execution_count": null,
   "metadata": {
    "id": "zLtOaJQk_qRI"
   },
   "outputs": [],
   "source": []
  },
  {
   "cell_type": "code",
   "execution_count": null,
   "metadata": {
    "id": "7GBHZKBp_qRJ"
   },
   "outputs": [],
   "source": []
  },
  {
   "cell_type": "code",
   "execution_count": null,
   "metadata": {
    "id": "Y5nBUA-j_qRJ"
   },
   "outputs": [],
   "source": []
  },
  {
   "cell_type": "code",
   "execution_count": null,
   "metadata": {
    "id": "ShcUC-Vm_qRJ"
   },
   "outputs": [],
   "source": []
  },
  {
   "cell_type": "markdown",
   "metadata": {
    "id": "FupfgeJk_qRJ"
   },
   "source": [
    "**Investigating the Bar Coupons**\n",
    "\n",
    "Now, we will lead you through an exploration of just the bar related coupons.  \n",
    "\n",
    "1. Create a new `DataFrame` that contains just the bar coupons.\n"
   ]
  },
  {
   "cell_type": "code",
   "execution_count": 36,
   "metadata": {
    "id": "tMBlWuGq_qRJ"
   },
   "outputs": [
    {
     "name": "stdout",
     "output_type": "stream",
     "text": [
      "<class 'pandas.core.frame.DataFrame'>\n",
      "Index: 1913 entries, 24 to 12682\n",
      "Data columns (total 26 columns):\n",
      " #   Column                Non-Null Count  Dtype \n",
      "---  ------                --------------  ----- \n",
      " 0   destination           1913 non-null   object\n",
      " 1   passanger             1913 non-null   object\n",
      " 2   weather               1913 non-null   object\n",
      " 3   temperature           1913 non-null   int64 \n",
      " 4   time                  1913 non-null   object\n",
      " 5   coupon                1913 non-null   object\n",
      " 6   expiration            1913 non-null   object\n",
      " 7   gender                1913 non-null   object\n",
      " 8   age                   1913 non-null   object\n",
      " 9   maritalStatus         1913 non-null   object\n",
      " 10  has_children          1913 non-null   int64 \n",
      " 11  education             1913 non-null   object\n",
      " 12  occupation            1913 non-null   object\n",
      " 13  income                1913 non-null   object\n",
      " 14  car                   1913 non-null   object\n",
      " 15  Bar                   1913 non-null   object\n",
      " 16  CoffeeHouse           1913 non-null   object\n",
      " 17  CarryAway             1913 non-null   object\n",
      " 18  RestaurantLessThan20  1913 non-null   object\n",
      " 19  Restaurant20To50      1913 non-null   object\n",
      " 20  toCoupon_GEQ5min      1913 non-null   int64 \n",
      " 21  toCoupon_GEQ15min     1913 non-null   int64 \n",
      " 22  toCoupon_GEQ25min     1913 non-null   int64 \n",
      " 23  direction_same        1913 non-null   int64 \n",
      " 24  direction_opp         1913 non-null   int64 \n",
      " 25  Y                     1913 non-null   int64 \n",
      "dtypes: int64(8), object(18)\n",
      "memory usage: 403.5+ KB\n"
     ]
    }
   ],
   "source": [
    "bar_data = data_cleaned[data_cleaned['coupon'] == 'Bar']\n",
    "bar_data.info()"
   ]
  },
  {
   "cell_type": "markdown",
   "metadata": {
    "id": "8ue6uCqf_qRJ"
   },
   "source": [
    "2. What proportion of bar coupons were accepted?\n"
   ]
  },
  {
   "cell_type": "code",
   "execution_count": 39,
   "metadata": {
    "id": "hSdte8Mi_qRK"
   },
   "outputs": [
    {
     "name": "stdout",
     "output_type": "stream",
     "text": [
      "Proportion of Accepted Coupons: 41.19%\n"
     ]
    }
   ],
   "source": [
    "bar_observations = len(bar_data)\n",
    "bar_accepted = bar_data['Y'].sum()\n",
    "\n",
    "bar_proportion = bar_accepted / bar_observations\n",
    "\n",
    "print(f\"Proportion of Accepted Coupons: {bar_proportion:.2%}\")"
   ]
  },
  {
   "cell_type": "code",
   "execution_count": 41,
   "metadata": {},
   "outputs": [
    {
     "name": "stdout",
     "output_type": "stream",
     "text": [
      "['never' 'less1' '1~3' 'gt8' '4~8']\n"
     ]
    }
   ],
   "source": [
    "print(bar_data['Bar'].unique())\n",
    "\n"
   ]
  },
  {
   "cell_type": "markdown",
   "metadata": {
    "id": "85nA_iEi_qRK"
   },
   "source": [
    "3. Compare the acceptance rate between those who went to a bar 3 or fewer times a month to those who went more.\n"
   ]
  },
  {
   "cell_type": "code",
   "execution_count": 44,
   "metadata": {
    "id": "LBOrN-XM_qRK"
   },
   "outputs": [
    {
     "name": "stdout",
     "output_type": "stream",
     "text": [
      "bar_visits_group\n",
      "3 or fewer     1720\n",
      "more than 3     193\n",
      "Name: Y, dtype: int64\n",
      "bar_visits_group\n",
      "3 or fewer     0.372674\n",
      "more than 3    0.761658\n",
      "Name: Y, dtype: float64\n"
     ]
    },
    {
     "name": "stderr",
     "output_type": "stream",
     "text": [
      "C:\\Users\\carl1\\AppData\\Local\\Temp\\ipykernel_17456\\2459743021.py:1: SettingWithCopyWarning: \n",
      "A value is trying to be set on a copy of a slice from a DataFrame.\n",
      "Try using .loc[row_indexer,col_indexer] = value instead\n",
      "\n",
      "See the caveats in the documentation: https://pandas.pydata.org/pandas-docs/stable/user_guide/indexing.html#returning-a-view-versus-a-copy\n",
      "  bar_data['bar_visits_group'] = bar_data['Bar'].apply(\n"
     ]
    }
   ],
   "source": [
    "bar_data['bar_visits_group'] = bar_data['Bar'].apply(\n",
    "    lambda x: '3 or fewer' if x in ['less1', 'never', '1~3'] else 'more than 3'\n",
    ")\n",
    "\n",
    "print(bar_data.groupby('bar_visits_group')['Y'].count())\n",
    "\n",
    "acceptance_rate = bar_data.groupby('bar_visits_group')['Y'].mean()\n",
    "\n",
    "print(acceptance_rate)\n"
   ]
  },
  {
   "cell_type": "code",
   "execution_count": 46,
   "metadata": {},
   "outputs": [
    {
     "name": "stdout",
     "output_type": "stream",
     "text": [
      "['never' 'less1' '1~3' 'gt8' '4~8']\n"
     ]
    }
   ],
   "source": [
    "print(bar_data['Bar'].unique())\n"
   ]
  },
  {
   "cell_type": "markdown",
   "metadata": {
    "id": "RBgcQwH4_qRK"
   },
   "source": [
    "4. Compare the acceptance rate between drivers who go to a bar more than once a month and are over the age of 25 to the all others.  Is there a difference?\n"
   ]
  },
  {
   "cell_type": "code",
   "execution_count": 49,
   "metadata": {
    "id": "bf28bbeX_qRK"
   },
   "outputs": [
    {
     "name": "stdout",
     "output_type": "stream",
     "text": [
      "over_25_more_than_1\n",
      "other    0.411918\n",
      "Name: Y, dtype: float64\n"
     ]
    }
   ],
   "source": [
    "data_cleaned = bar_data.copy()\n",
    "bar_data.loc[:, 'bar_visits_group'] = data_cleaned['Bar'].apply(\n",
    "    lambda x: 'more than 1' if x in ['1~3', '4~8', 'gt8'] else '1 or fewer')\n",
    "\n",
    "data_cleaned['over_25_more_than_1'] = data_cleaned.apply(\n",
    "    lambda row: 'over_25_more_than_1' if row['bar_visits_group'] == 'more than 1' and row['age'] > 25 else 'other', axis=1)\n",
    "\n",
    "acceptance_rate_25 = data_cleaned.groupby('over_25_more_than_1')['Y'].mean()\n",
    "\n",
    "print(acceptance_rate_25)\n",
    "\n"
   ]
  },
  {
   "cell_type": "markdown",
   "metadata": {
    "id": "S4RKT4PJ_qRK"
   },
   "source": [
    "5. Use the same process to compare the acceptance rate between drivers who go to bars more than once a month and had passengers that were not a kid and had occupations other than farming, fishing, or forestry.\n"
   ]
  },
  {
   "cell_type": "code",
   "execution_count": 52,
   "metadata": {
    "id": "sENaI2Tg_qRK"
   },
   "outputs": [
    {
     "name": "stdout",
     "output_type": "stream",
     "text": [
      "more_than_1_no_kid_non_farming\n",
      "more_than_1_no_kid_non_farming    0.709434\n",
      "other                             0.297903\n",
      "Name: Y, dtype: float64\n"
     ]
    }
   ],
   "source": [
    "data_cleaned = data_cleaned.copy()\n",
    "\n",
    "data_cleaned.loc[:, 'bar_visits_group'] = data_cleaned['Bar'].apply(\n",
    "    lambda x: 'more than 1' if x in ['1~3', '4~8', 'gt8'] else '1 or fewer')\n",
    "\n",
    "data_cleaned['more_than_1_no_kid_non_farming'] = data_cleaned.apply(\n",
    "    lambda row: 'more_than_1_no_kid_non_farming' \n",
    "    if row['bar_visits_group'] == 'more than 1' \n",
    "    and row['passanger'] != 'Kid(s)' \n",
    "    and row['occupation'] not in ['Farming', 'Fishing', 'Forestry']\n",
    "    else 'other', axis=1)\n",
    "\n",
    "acceptance_rate = data_cleaned.groupby('more_than_1_no_kid_non_farming')['Y'].mean()\n",
    "\n",
    "# Step 4: Print the acceptance rates\n",
    "print(acceptance_rate)\n"
   ]
  },
  {
   "cell_type": "code",
   "execution_count": 65,
   "metadata": {},
   "outputs": [
    {
     "data": {
      "text/plain": [
       "array(['$62500 - $74999', '$12500 - $24999', '$75000 - $87499',\n",
       "       '$50000 - $62499', '$37500 - $49999', '$25000 - $37499',\n",
       "       '$100000 or More', '$87500 - $99999', 'Less than $12500'],\n",
       "      dtype=object)"
      ]
     },
     "execution_count": 65,
     "metadata": {},
     "output_type": "execute_result"
    }
   ],
   "source": [
    "data_cleaned['income'].unique()"
   ]
  },
  {
   "cell_type": "markdown",
   "metadata": {
    "id": "n2LIUTil_qRK"
   },
   "source": [
    "6. Compare the acceptance rates between those drivers who:\n",
    "\n",
    "- go to bars more than once a month, had passengers that were not a kid, and were not widowed *OR*\n",
    "- go to bars more than once a month and are under the age of 30 *OR*\n",
    "- go to cheap restaurants more than 4 times a month and income is less than 50K.\n",
    "\n"
   ]
  },
  {
   "cell_type": "code",
   "execution_count": 67,
   "metadata": {
    "id": "aK_wEzx7_qRK"
   },
   "outputs": [
    {
     "name": "stdout",
     "output_type": "stream",
     "text": [
      "Acceptance rate for drivers who meet the conditions: 58.71%\n",
      "Acceptance rate for drivers who do not meet the conditions: 29.99%\n",
      "Number of drivers who do not meet the conditions: 1167\n"
     ]
    }
   ],
   "source": [
    "import pandas as pd\n",
    "\n",
    "# Safely copy the original DataFrame\n",
    "df = data_cleaned.copy()\n",
    "\n",
    "# Convert the 'age' column to numeric (ignoring errors)\n",
    "df['age'] = pd.to_numeric(df['age'], errors='coerce')\n",
    "\n",
    "# Define a mapping for the 'income' column to convert income ranges into numerical values\n",
    "income_mapping = {\n",
    "    'Less than $12500': 12500,\n",
    "    '$12500 - $24999': 24999,\n",
    "    '$25000 - $37499': 37499,\n",
    "    '$37500 - $49999': 49999,\n",
    "    '$50000 - $62499': 62499,\n",
    "    '$62500 - $74999': 74999,\n",
    "    '$75000 - $87499': 87499,\n",
    "    '$87500 - $99999': 99999,\n",
    "    '$100000 or More': 100000\n",
    "}\n",
    "\n",
    "# Apply the income mapping\n",
    "df['income_numeric'] = df['income'].map(income_mapping)\n",
    "\n",
    "# Define the conditions based on the given criteria\n",
    "\n",
    "# Condition 1: Go to bars more than once a month, passengers are not kids, and not widowed\n",
    "condition1 = (df['Bar'].isin(['1~3', '4~8', 'gt8'])) & (df['passanger'] != 'Kid(s)') & (df['maritalStatus'] != 'Widowed')\n",
    "\n",
    "# Condition 2: Go to bars more than once a month and are under the age of 30\n",
    "condition2 = (df['Bar'].isin(['1~3', '4~8', 'gt8'])) & (df['age'] < 30)\n",
    "\n",
    "# Condition 3: Go to cheap restaurants more than 4 times a month and income is less than $50K\n",
    "condition3 = (df['RestaurantLessThan20'].isin(['4~8', 'gt8'])) & (df['income_numeric'] < 50000)\n",
    "\n",
    "# Combine the conditions with OR (|)\n",
    "combined_condition = condition1 | condition2 | condition3\n",
    "\n",
    "# Calculate the acceptance rates for drivers meeting the conditions\n",
    "acceptance_rate_met_conditions = df[combined_condition]['Y'].mean()\n",
    "\n",
    "# Calculate the acceptance rates for drivers who do not meet the conditions\n",
    "acceptance_rate_not_met_conditions = df[~combined_condition]['Y'].mean()\n",
    "\n",
    "# Calculate the number of drivers who do not meet the conditions\n",
    "drivers_not_meeting_conditions = len(df[~combined_condition])\n",
    "\n",
    "# Print the results\n",
    "print(f\"Acceptance rate for drivers who meet the conditions: {acceptance_rate_met_conditions:.2%}\")\n",
    "print(f\"Acceptance rate for drivers who do not meet the conditions: {acceptance_rate_not_met_conditions:.2%}\")\n",
    "print(f\"Number of drivers who do not meet the conditions: {drivers_not_meeting_conditions}\")\n"
   ]
  },
  {
   "cell_type": "markdown",
   "metadata": {
    "id": "v3fL3QkO_qRK"
   },
   "source": [
    "7.  Based on these observations, what do you hypothesize about drivers who accepted the bar coupons?"
   ]
  },
  {
   "cell_type": "code",
   "execution_count": null,
   "metadata": {
    "id": "Y48naDFh_qRL"
   },
   "outputs": [],
   "source": [
    "# Based on the observations, factors like frequent bar visits, younger age, and lower income seem to influence coupon acceptance rates."
   ]
  },
  {
   "cell_type": "markdown",
   "metadata": {
    "id": "r4Hu1zOb_qRL"
   },
   "source": [
    "### Independent Investigation\n",
    "\n",
    "Using the bar coupon example as motivation, you are to explore one of the other coupon groups and try to determine the characteristics of passengers who accept the coupons.  "
   ]
  },
  {
   "cell_type": "code",
   "execution_count": 71,
   "metadata": {
    "id": "0c71cQhu_qRL"
   },
   "outputs": [
    {
     "data": {
      "text/plain": [
       "array(['Bachelors degree', 'Some college - no degree',\n",
       "       'Associates degree', 'High School Graduate',\n",
       "       'Graduate degree (Masters or Doctorate)', 'Some High School'],\n",
       "      dtype=object)"
      ]
     },
     "execution_count": 71,
     "metadata": {},
     "output_type": "execute_result"
    }
   ],
   "source": [
    "data_cleaned['education'].unique()"
   ]
  },
  {
   "cell_type": "code",
   "execution_count": 73,
   "metadata": {
    "id": "QEsBkvIN_qRL"
   },
   "outputs": [
    {
     "name": "stdout",
     "output_type": "stream",
     "text": [
      "Acceptance rate by education level:\n",
      "education\n",
      "Associates degree                         0.299435\n",
      "Bachelors degree                          0.415214\n",
      "Graduate degree (Masters or Doctorate)    0.370229\n",
      "High School Graduate                      0.405594\n",
      "Some High School                          0.785714\n",
      "Some college - no degree                  0.447522\n",
      "Name: Y, dtype: float64\n"
     ]
    },
    {
     "data": {
      "image/png": "[encoded data removed]",
      "text/plain": [
       "<Figure size 1000x600 with 1 Axes>"
      ]
     },
     "metadata": {},
     "output_type": "display_data"
    }
   ],
   "source": [
    "education_acceptance_rate = data_cleaned.groupby('education')['Y'].mean()\n",
    "print(\"Acceptance rate by education level:\")\n",
    "print(education_acceptance_rate)\n",
    "plt.figure(figsize=(10, 6))\n",
    "education_acceptance_rate.plot(kind='bar', color='skyblue')\n",
    "plt.title('Coupon Acceptance Rate by Education Level')\n",
    "plt.xlabel('Education Level')\n",
    "plt.ylabel('Acceptance Rate (Y)')\n",
    "plt.xticks(rotation=45, ha='right')\n",
    "plt.grid(axis='y', linestyle='--')\n",
    "plt.show()\n"
   ]
  },
  {
   "cell_type": "code",
   "execution_count": null,
   "metadata": {
    "id": "fTC2WGE3_qRL"
   },
   "outputs": [],
   "source": [
    "# Among the education level column, the obvious observation to make is that high school dropouts ('Some High School') are the most likely to accept the coupon\n",
    "\n",
    "# A follow question to ask is, is this the right type of customer to target (ie do they have money to spend)? "
   ]
  },
  {
   "cell_type": "code",
   "execution_count": 77,
   "metadata": {
    "id": "RrqUWn7d_qRL"
   },
   "outputs": [
    {
     "name": "stderr",
     "output_type": "stream",
     "text": [
      "C:\\Users\\carl1\\AppData\\Local\\Temp\\ipykernel_17456\\332672575.py:22: FutureWarning: \n",
      "\n",
      "Passing `palette` without assigning `hue` is deprecated and will be removed in v0.14.0. Assign the `x` variable to `hue` and set `legend=False` for the same effect.\n",
      "\n",
      "  sns.boxplot(x='education', y='income_numeric', data=data_cleaned, palette='Set2')\n"
     ]
    },
    {
     "data": {
      "image/png": "[encoded data removed]",
      "text/plain": [
       "<Figure size 1200x600 with 1 Axes>"
      ]
     },
     "metadata": {},
     "output_type": "display_data"
    }
   ],
   "source": [
    "import matplotlib.pyplot as plt\n",
    "import seaborn as sns\n",
    "\n",
    "# First, ensure that income is mapped to numeric values for proper comparison\n",
    "income_mapping = {\n",
    "    'Less than $12500': 12500,\n",
    "    '$12500 - $24999': 24999,\n",
    "    '$25000 - $37499': 37499,\n",
    "    '$37500 - $49999': 49999,\n",
    "    '$50000 - $62499': 62499,\n",
    "    '$62500 - $74999': 74999,\n",
    "    '$75000 - $87499': 87499,\n",
    "    '$87500 - $99999': 99999,\n",
    "    '$100000 or More': 100000\n",
    "}\n",
    "\n",
    "# Create a new column for numerical income levels\n",
    "data_cleaned['income_numeric'] = data_cleaned['income'].map(income_mapping)\n",
    "\n",
    "# Visualize the comparison between education level and income\n",
    "plt.figure(figsize=(12, 6))\n",
    "sns.boxplot(x='education', y='income_numeric', data=data_cleaned, palette='Set2')\n",
    "\n",
    "# Set titles and labels for clarity\n",
    "plt.title('Comparison of Education Level with Income', fontsize=14)\n",
    "plt.xlabel('Education Level', fontsize=12)\n",
    "plt.ylabel('Income Level (Numeric)', fontsize=12)\n",
    "plt.xticks(rotation=45, ha='right')\n",
    "plt.grid(axis='y', linestyle='--')\n",
    "\n",
    "# Show the plot\n",
    "plt.tight_layout()\n",
    "plt.show()\n"
   ]
  },
  {
   "cell_type": "code",
   "execution_count": null,
   "metadata": {
    "id": "_oykf8YP_qRL"
   },
   "outputs": [],
   "source": []
  }
 ],
 "metadata": {
  "colab": {
   "provenance": []
  },
  "kernelspec": {
   "display_name": "Python 3 (ipykernel)",
   "language": "python",
   "name": "python3"
  },
  "language_info": {
   "codemirror_mode": {
    "name": "ipython",
    "version": 3
   },
   "file_extension": ".py",
   "mimetype": "text/x-python",
   "name": "python",
   "nbconvert_exporter": "python",
   "pygments_lexer": "ipython3",
   "version": "3.12.4"
  }
 },
 "nbformat": 4,
 "nbformat_minor": 4
}
